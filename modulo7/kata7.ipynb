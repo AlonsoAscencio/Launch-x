{
 "cells": [
  {
   "cell_type": "markdown",
   "metadata": {},
   "source": [
    "# Ejercicio 1\n"
   ]
  },
  {
   "cell_type": "code",
   "execution_count": 1,
   "metadata": {},
   "outputs": [],
   "source": [
    "New_planet=\"\"\n",
    "Planets=[]\n",
    "\n",
    "while New_planet.lower() != \"done\":\n",
    "    \n",
    "    if New_planet != \"\":\n",
    "        Planets.append(New_planet)\n",
    "    New_planet=input(\"\"\"Escriba el nombre del planeta o \"done\" para terminar\"\"\")\n",
    "    \n",
    "   "
   ]
  },
  {
   "cell_type": "markdown",
   "metadata": {},
   "source": [
    "# Ejercicio 2"
   ]
  },
  {
   "cell_type": "code",
   "execution_count": 3,
   "metadata": {},
   "outputs": [
    {
     "name": "stdout",
     "output_type": "stream",
     "text": [
      "mercurio\n",
      "venus\n",
      "tierra\n",
      "marte\n",
      "jupiter\n",
      "saturno\n",
      "nepturno\n",
      "donde\n"
     ]
    }
   ],
   "source": [
    "for List_planets in Planets:\n",
    "    print(List_planets)"
   ]
  },
  {
   "cell_type": "markdown",
   "metadata": {},
   "source": []
  }
 ],
 "metadata": {
  "interpreter": {
   "hash": "fc7b1ccf73f86c1843c3292c30f8604acb4822de5ee24150f608c9cc9d3f15f7"
  },
  "kernelspec": {
   "display_name": "Python 3.10.2 64-bit (windows store)",
   "language": "python",
   "name": "python3"
  },
  "language_info": {
   "codemirror_mode": {
    "name": "ipython",
    "version": 3
   },
   "file_extension": ".py",
   "mimetype": "text/x-python",
   "name": "python",
   "nbconvert_exporter": "python",
   "pygments_lexer": "ipython3",
   "version": "3.10.2"
  },
  "orig_nbformat": 4
 },
 "nbformat": 4,
 "nbformat_minor": 2
}
