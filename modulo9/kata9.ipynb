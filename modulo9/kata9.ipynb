{
 "cells": [
  {
   "cell_type": "markdown",
   "metadata": {},
   "source": [
    "# Ejercicio 1"
   ]
  },
  {
   "cell_type": "code",
   "execution_count": 23,
   "metadata": {},
   "outputs": [
    {
     "name": "stdout",
     "output_type": "stream",
     "text": [
      "el promedio de combustible en los tanques es de  41.666666666666664 %\n",
      "el promedio de combustible en los tanques es de  52 %\n"
     ]
    }
   ],
   "source": [
    "def lecturas_combustible(tanque1, tanque2, tanque3):\n",
    "    promedio = (tanque1 + tanque2 + tanque3) / 3\n",
    "    print(\"el promedio de combustible en los tanques es de \", str(promedio),\"%\")\n",
    "\n",
    "\n",
    "lecturas_combustible(20, 35, 70)\n",
    "\n",
    "def funcion_promedio(*args):\n",
    "    total = sum(args)\n",
    "    total_tanques = len(args)\n",
    "    return round(total / total_tanques)\n",
    "    \n",
    "def lecturas_combustible2(*args):\n",
    "\n",
    "    print(\"el promedio de combustible en los tanques es de \", str(funcion_promedio(*args)),\"%\")\n",
    "\n",
    "lecturas_combustible2(20, 35, 70, 10, 90, 87)\n",
    "\n",
    "\n",
    "\n",
    "\n",
    "\n"
   ]
  },
  {
   "cell_type": "markdown",
   "metadata": {},
   "source": [
    "# Ejercicio 2"
   ]
  },
  {
   "cell_type": "code",
   "execution_count": 27,
   "metadata": {},
   "outputs": [
    {
     "name": "stdout",
     "output_type": "stream",
     "text": [
      "\n",
      "    viaje a china\n",
      "    tiempo de viaje 45 minutos\n",
      "    total de combustible 80 litros\n",
      "    \n"
     ]
    }
   ],
   "source": [
    "def viaje(partida, tiempo_vuelo, destino, tanque_int, Tanque_ext):\n",
    "    return f\"\"\"\n",
    "    viaje a {destino}\n",
    "    tiempo de viaje {partida + tiempo_vuelo} minutos\n",
    "    total de combustible {tanque_int + Tanque_ext} litros\n",
    "    \"\"\"\n",
    "print(viaje(15, 30, \"china\", 30, 50))\n"
   ]
  },
  {
   "cell_type": "code",
   "execution_count": 28,
   "metadata": {},
   "outputs": [
    {
     "name": "stdout",
     "output_type": "stream",
     "text": [
      "\n",
      "    viaje a china\n",
      "    tiempo de viaje 80 minutos\n",
      "    total de combustible 170 litros\n",
      "    \n"
     ]
    }
   ],
   "source": [
    "def viaje(destino, *minutos, **reservas):\n",
    "    return f\"\"\"\n",
    "    viaje a {destino}\n",
    "    tiempo de viaje {sum(minutos)} minutos\n",
    "    total de combustible {sum(reservas.values())} litros\n",
    "    \"\"\"\n",
    "print(viaje(\"china\", 30, 50, reserva1=69, reserva2= 89, reserva3= 12))"
   ]
  },
  {
   "cell_type": "code",
   "execution_count": 35,
   "metadata": {},
   "outputs": [
    {
     "name": "stdout",
     "output_type": "stream",
     "text": [
      "\n",
      "    viaje a china\n",
      "    tiempo de viaje 80 minutos\n",
      "    total de combustible 170 litros\n",
      "     reserva1 tiene 69 litros\n",
      " reserva2 tiene 89 litros\n",
      " reserva3 tiene 12 litros\n",
      "\n"
     ]
    }
   ],
   "source": [
    "def viaje(destino, *minutos, **reservas):\n",
    "    informe = f\"\"\"\n",
    "    viaje a {destino}\n",
    "    tiempo de viaje {sum(minutos)} minutos\n",
    "    total de combustible {sum(reservas.values())} litros\n",
    "    \"\"\"\n",
    "    for tanque, litros in reservas.items():\n",
    "        informe +=f\" {tanque} tiene {litros} litros\\n\"\n",
    "    return informe\n",
    "\n",
    "print(viaje(\"china\", 30, 50, reserva1=69, reserva2= 89, reserva3= 12))"
   ]
  }
 ],
 "metadata": {
  "interpreter": {
   "hash": "fc7b1ccf73f86c1843c3292c30f8604acb4822de5ee24150f608c9cc9d3f15f7"
  },
  "kernelspec": {
   "display_name": "Python 3.10.2 64-bit (windows store)",
   "language": "python",
   "name": "python3"
  },
  "language_info": {
   "codemirror_mode": {
    "name": "ipython",
    "version": 3
   },
   "file_extension": ".py",
   "mimetype": "text/x-python",
   "name": "python",
   "nbconvert_exporter": "python",
   "pygments_lexer": "ipython3",
   "version": "3.10.2"
  },
  "orig_nbformat": 4
 },
 "nbformat": 4,
 "nbformat_minor": 2
}
