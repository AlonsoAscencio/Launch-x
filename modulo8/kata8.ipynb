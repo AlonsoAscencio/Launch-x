{
 "cells": [
  {
   "cell_type": "markdown",
   "metadata": {},
   "source": [
    "# Ejercicio 1"
   ]
  },
  {
   "cell_type": "code",
   "execution_count": 17,
   "metadata": {},
   "outputs": [
    {
     "name": "stdout",
     "output_type": "stream",
     "text": [
      "El nombre del planeta es marte\n",
      "Y tiene 2 lunas\n",
      "marte tiene una circunferencia polar de : 6752\n"
     ]
    }
   ],
   "source": [
    "planeta = {\n",
    "    \"nombre\": \"marte\",\n",
    "    \"lunas\": 2\n",
    "}\n",
    "\n",
    "print(\"El nombre del planeta es\",planeta[\"nombre\"])\n",
    "print(\"Y tiene\", planeta[\"lunas\"], \"lunas\")\n",
    "\n",
    "planeta[\"circunferencia\"] = {\n",
    "    \"polar\": 6752,\n",
    "    \"equatorial\": 6792\n",
    "}\n",
    "\n",
    "print(planeta[\"nombre\"],\"tiene una circunferencia polar de :\", planeta[\"circunferencia\"][\"polar\"])"
   ]
  },
  {
   "cell_type": "markdown",
   "metadata": {},
   "source": [
    "# Ejercicio 2"
   ]
  },
  {
   "cell_type": "code",
   "execution_count": 3,
   "metadata": {},
   "outputs": [
    {
     "name": "stdout",
     "output_type": "stream",
     "text": [
      "17.833333333333332\n"
     ]
    }
   ],
   "source": [
    "planet_moons = {\n",
    "    \"mercurio\": 0,\n",
    "    \"venus\": 0,\n",
    "    \"tierra\": 1,\n",
    "    \"marte\": 2,\n",
    "    \"jupiter\": 79,\n",
    "    \"saturno\": 82,\n",
    "    \"urano\": 27,\n",
    "    \"neptuno\": 14,\n",
    "    \"pluton\": 5,\n",
    "    \"haumea\": 2,\n",
    "    \"makemake\": 1,\n",
    "    \"eris\": 1\n",
    "\n",
    "}\n",
    "\n",
    "moons = planet_moons.values()\n",
    "planets = len(planet_moons.keys())\n",
    "total_moons = 0\n",
    "\n",
    "for moon in moons:\n",
    "    total_moons= moon + total_moons\n",
    "promedio = total_moons / planets\n",
    "\n",
    "print(promedio)\n"
   ]
  }
 ],
 "metadata": {
  "interpreter": {
   "hash": "fc7b1ccf73f86c1843c3292c30f8604acb4822de5ee24150f608c9cc9d3f15f7"
  },
  "kernelspec": {
   "display_name": "Python 3.10.2 64-bit (windows store)",
   "language": "python",
   "name": "python3"
  },
  "language_info": {
   "codemirror_mode": {
    "name": "ipython",
    "version": 3
   },
   "file_extension": ".py",
   "mimetype": "text/x-python",
   "name": "python",
   "nbconvert_exporter": "python",
   "pygments_lexer": "ipython3",
   "version": "3.10.2"
  },
  "orig_nbformat": 4
 },
 "nbformat": 4,
 "nbformat_minor": 2
}
