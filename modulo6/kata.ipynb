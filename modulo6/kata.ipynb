{
 "cells": [
  {
   "cell_type": "markdown",
   "metadata": {},
   "source": [
    "# Ejercicio 1"
   ]
  },
  {
   "cell_type": "code",
   "execution_count": 31,
   "metadata": {},
   "outputs": [],
   "source": [
    "planets = [\"Mercurio\", \"Venus\", \"Tierra\", \"Marte\", \"Jupiter\", \"Saturno\", \"Urano\", \"Nepturno\"]"
   ]
  },
  {
   "cell_type": "code",
   "execution_count": 32,
   "metadata": {},
   "outputs": [
    {
     "name": "stdout",
     "output_type": "stream",
     "text": [
      "existen 9 planetas y Plutón es el último\n"
     ]
    }
   ],
   "source": [
    "planets.append(\"Plutón\")\n",
    "no_planets = len(planets)\n",
    "print(\"existen\", no_planets, \"planetas y\", planets[-1] , \"es el último\")"
   ]
  },
  {
   "cell_type": "markdown",
   "metadata": {},
   "source": [
    "# Ejercicio 2"
   ]
  },
  {
   "cell_type": "code",
   "execution_count": 33,
   "metadata": {},
   "outputs": [],
   "source": [
    "planets = [\"Mercury\", \"Venus\", \"Earth\", \"Mars\", \"Jupiter\", \"Saturn\", \"Neptune\"]\n"
   ]
  },
  {
   "cell_type": "code",
   "execution_count": 34,
   "metadata": {},
   "outputs": [],
   "source": [
    "planeta = input(\"ingresa el nombre del planetacon la letra inicial en mayúscula\")\n",
    "p_index = planets.index(planeta)\n",
    "\n"
   ]
  },
  {
   "cell_type": "code",
   "execution_count": 35,
   "metadata": {},
   "outputs": [
    {
     "name": "stdout",
     "output_type": "stream",
     "text": [
      "los planetas más cercanos al sol antes de Jupiter son:\n",
      "['Mercury', 'Venus', 'Earth', 'Mars']\n"
     ]
    }
   ],
   "source": [
    "print(\"los planetas más cercanos al sol antes de\" , planeta, \"son:\")\n",
    "print(planets [0:p_index])"
   ]
  },
  {
   "cell_type": "code",
   "execution_count": 36,
   "metadata": {},
   "outputs": [
    {
     "name": "stdout",
     "output_type": "stream",
     "text": [
      "los planetas más lejanos al sol despues de Jupiter son:\n",
      "['Saturn', 'Neptune']\n"
     ]
    }
   ],
   "source": [
    "print(\"los planetas más lejanos al sol despues de\" , planeta, \"son:\")\n",
    "print(planets [p_index+1:8])"
   ]
  }
 ],
 "metadata": {
  "interpreter": {
   "hash": "fc7b1ccf73f86c1843c3292c30f8604acb4822de5ee24150f608c9cc9d3f15f7"
  },
  "kernelspec": {
   "display_name": "Python 3.10.2 64-bit (windows store)",
   "language": "python",
   "name": "python3"
  },
  "language_info": {
   "codemirror_mode": {
    "name": "ipython",
    "version": 3
   },
   "file_extension": ".py",
   "mimetype": "text/x-python",
   "name": "python",
   "nbconvert_exporter": "python",
   "pygments_lexer": "ipython3",
   "version": "3.10.2"
  },
  "orig_nbformat": 4
 },
 "nbformat": 4,
 "nbformat_minor": 2
}
