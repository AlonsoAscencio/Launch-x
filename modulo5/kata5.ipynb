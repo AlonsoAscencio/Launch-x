{
 "cells": [
  {
   "cell_type": "markdown",
   "metadata": {},
   "source": [
    "# Ejercicio 1"
   ]
  },
  {
   "cell_type": "code",
   "execution_count": 34,
   "metadata": {},
   "outputs": [
    {
     "name": "stdout",
     "output_type": "stream",
     "text": [
      "la distancia entre la tierra y jupiter es 628949.33\n"
     ]
    }
   ],
   "source": [
    "tierra = 149597.870 \n",
    "jupiter = 778547.200 \n",
    "distancia = abs(149597.870 - 778547.200 )\n",
    "\n",
    "print(\"la distancia entre la {0} y {1} es {2}\".format(\"tierra\", \"jupiter\", distancia))"
   ]
  },
  {
   "cell_type": "code",
   "execution_count": 35,
   "metadata": {},
   "outputs": [
    {
     "name": "stdout",
     "output_type": "stream",
     "text": [
      "390577.53393 millas\n"
     ]
    }
   ],
   "source": [
    "millas = (distancia) * 0.621\n",
    "print(millas, \"millas\")"
   ]
  },
  {
   "cell_type": "markdown",
   "metadata": {},
   "source": [
    "# Ejercicio 2"
   ]
  },
  {
   "cell_type": "code",
   "execution_count": 43,
   "metadata": {},
   "outputs": [
    {
     "name": "stdout",
     "output_type": "stream",
     "text": [
      "57900000\n",
      "2872500000\n"
     ]
    }
   ],
   "source": [
    "p_planeta= input(\"Introduzca las distancia entre el sol y el primer planeta en km\")\n",
    "s_planeta= input(\"Introduzca las distancia entre el sol y el segundo planeta en km\")\n",
    "\n",
    "p_planeta = int(p_planeta)\n",
    "s_planeta = int(s_planeta)\n",
    "print(p_planeta)\n",
    "print(s_planeta)\n",
    "\n"
   ]
  },
  {
   "cell_type": "code",
   "execution_count": 44,
   "metadata": {},
   "outputs": [
    {
     "name": "stdout",
     "output_type": "stream",
     "text": [
      "1747866600.0 millas\n"
     ]
    }
   ],
   "source": [
    "distanciakm = abs(p_planeta - s_planeta)\n",
    "millas = distanciakm * 0.621\n",
    "print(millas, \"millas\")"
   ]
  }
 ],
 "metadata": {
  "interpreter": {
   "hash": "fc7b1ccf73f86c1843c3292c30f8604acb4822de5ee24150f608c9cc9d3f15f7"
  },
  "kernelspec": {
   "display_name": "Python 3.10.2 64-bit (windows store)",
   "language": "python",
   "name": "python3"
  },
  "language_info": {
   "codemirror_mode": {
    "name": "ipython",
    "version": 3
   },
   "file_extension": ".py",
   "mimetype": "text/x-python",
   "name": "python",
   "nbconvert_exporter": "python",
   "pygments_lexer": "ipython3",
   "version": "3.10.2"
  },
  "orig_nbformat": 4
 },
 "nbformat": 4,
 "nbformat_minor": 2
}
